{
  "nbformat": 4,
  "nbformat_minor": 0,
  "metadata": {
    "colab": {
      "provenance": [],
      "authorship_tag": "ABX9TyMEGlOH08emyg2CIeVprpn1",
      "include_colab_link": true
    },
    "kernelspec": {
      "name": "python3",
      "display_name": "Python 3"
    },
    "language_info": {
      "name": "python"
    }
  },
  "cells": [
    {
      "cell_type": "markdown",
      "metadata": {
        "id": "view-in-github",
        "colab_type": "text"
      },
      "source": [
        "<a href=\"https://colab.research.google.com/github/EsauRamosAquino19690277/Estudiantes/blob/main/IA.ipynb\" target=\"_parent\"><img src=\"https://colab.research.google.com/assets/colab-badge.svg\" alt=\"Open In Colab\"/></a>"
      ]
    },
    {
      "cell_type": "code",
      "execution_count": 1,
      "metadata": {
        "colab": {
          "base_uri": "https://localhost:8080/",
          "height": 0
        },
        "id": "ZdlZrjMLqm1Z",
        "outputId": "6129fc46-3458-45b4-991e-827c9b50637c"
      },
      "outputs": [
        {
          "output_type": "stream",
          "name": "stdout",
          "text": [
            "['Id', 'MSSubClass', 'LotFrontage', 'LotArea', 'OverallQual', 'OverallCond', 'YearBuilt', 'YearRemodAdd', 'MasVnrArea', 'BsmtFinSF1', 'BsmtFinSF2', 'BsmtUnfSF', 'TotalBsmtSF', '1stFlrSF', '2ndFlrSF', 'LowQualFinSF', 'GrLivArea', 'BsmtFullBath', 'BsmtHalfBath', 'FullBath', 'HalfBath', 'BedroomAbvGr', 'KitchenAbvGr', 'TotRmsAbvGrd', 'Fireplaces', 'GarageYrBlt', 'GarageCars', 'GarageArea', 'WoodDeckSF', 'OpenPorchSF', 'EnclosedPorch', '3SsnPorch', 'ScreenPorch', 'PoolArea', 'MiscVal', 'MoSold', 'YrSold', 'SalePrice']\n",
            "Regresión Lineal - MSE: 1892748020.9987743\n",
            "Regresión Lineal - R2: 0.7532376107778491\n"
          ]
        },
        {
          "output_type": "stream",
          "name": "stderr",
          "text": [
            "/usr/local/lib/python3.11/dist-packages/keras/src/layers/core/dense.py:87: UserWarning: Do not pass an `input_shape`/`input_dim` argument to a layer. When using Sequential models, prefer using an `Input(shape)` object as the first layer in the model instead.\n",
            "  super().__init__(activity_regularizer=activity_regularizer, **kwargs)\n"
          ]
        },
        {
          "output_type": "stream",
          "name": "stdout",
          "text": [
            "\u001b[1m10/10\u001b[0m \u001b[32m━━━━━━━━━━━━━━━━━━━━\u001b[0m\u001b[37m\u001b[0m \u001b[1m0s\u001b[0m 8ms/step \n",
            "Red Neuronal - MSE: 2583822592.0\n",
            "Red Neuronal - R2: 0.6631404757499695\n",
            "\n",
            "Ejemplos de predicciones (RNA vs Real):\n",
            "Prediccion: 119441.20, Real: 154500.00\n",
            "Prediccion: 273368.34, Real: 325000.00\n",
            "Prediccion: 124177.23, Real: 115000.00\n",
            "Prediccion: 167526.77, Real: 159000.00\n",
            "Prediccion: 241243.58, Real: 315500.00\n",
            "\n",
            "Resumen de modelos:\n",
            "Regresión Lineal -> MSE: 1892748021.00, R2: 0.75\n",
            "Red Neuronal -> MSE: 2583822592.00, R2: 0.66\n"
          ]
        }
      ],
      "source": [
        "# Tarea: Predicción del Precio de una Vivienda\n",
        "# Modelos: Regresión Lineal Múltiple y Red Neuronal Artificial\n",
        "\n",
        "# Paso 1: Importar bibliotecas necesarias\n",
        "import numpy as np\n",
        "import pandas as pd\n",
        "import matplotlib.pyplot as plt\n",
        "from sklearn.model_selection import train_test_split\n",
        "from sklearn.linear_model import LinearRegression\n",
        "from sklearn.metrics import mean_squared_error, r2_score\n",
        "from tensorflow.keras.models import Sequential\n",
        "from tensorflow.keras.layers import Dense\n",
        "from tensorflow.keras.optimizers import Adam\n",
        "\n",
        "# Paso 2: Cargar y preparar los datos\n",
        "# SUBE el archivo 'train.csv' a Colab antes de correr esta celda\n",
        "data = pd.read_csv('train.csv')\n",
        "\n",
        "# Ver las primeras columnas para elegir variables numéricas relevantes\n",
        "print(data.select_dtypes(include=[np.number]).columns.tolist())\n",
        "\n",
        "# Seleccionamos variables predictoras numéricas\n",
        "features = ['GrLivArea', 'TotalBsmtSF', 'GarageArea', 'YearBuilt', '1stFlrSF']\n",
        "target = 'SalePrice'\n",
        "\n",
        "# Eliminar filas con valores nulos en las columnas seleccionadas\n",
        "data = data[features + [target]].dropna()\n",
        "\n",
        "X = data[features].values\n",
        "y = data[target].values\n",
        "\n",
        "# Separar en conjuntos de entrenamiento y prueba\n",
        "X_train, X_test, y_train, y_test = train_test_split(X, y, test_size=0.2, random_state=42)\n",
        "\n",
        "# Paso 3.1: Modelo de Regresión Lineal Múltiple\n",
        "lr_model = LinearRegression()\n",
        "lr_model.fit(X_train, y_train)\n",
        "\n",
        "# Evaluación modelo de regresión\n",
        "y_pred_lr = lr_model.predict(X_test)\n",
        "mse_lr = mean_squared_error(y_test, y_pred_lr)\n",
        "r2_lr = r2_score(y_test, y_pred_lr)\n",
        "print(\"Regresión Lineal - MSE:\", mse_lr)\n",
        "print(\"Regresión Lineal - R2:\", r2_lr)\n",
        "\n",
        "# Paso 3.2: Red Neuronal Artificial (RNA)\n",
        "nn_model = Sequential()\n",
        "nn_model.add(Dense(64, input_dim=X_train.shape[1], activation='relu'))\n",
        "nn_model.add(Dense(32, activation='relu'))\n",
        "nn_model.add(Dense(1))\n",
        "\n",
        "# Compilar el modelo\n",
        "nn_model.compile(optimizer=Adam(learning_rate=0.01), loss='mean_squared_error')\n",
        "\n",
        "# Entrenar la RNA\n",
        "history = nn_model.fit(X_train, y_train, epochs=100, batch_size=32, verbose=0, validation_split=0.2)\n",
        "\n",
        "# Evaluación modelo RNA\n",
        "y_pred_nn = nn_model.predict(X_test).flatten()\n",
        "mse_nn = mean_squared_error(y_test, y_pred_nn)\n",
        "r2_nn = r2_score(y_test, y_pred_nn)\n",
        "print(\"Red Neuronal - MSE:\", mse_nn)\n",
        "print(\"Red Neuronal - R2:\", r2_nn)\n",
        "\n",
        "# Paso 5: Realizar 5 predicciones nuevas\n",
        "print(\"\\nEjemplos de predicciones (RNA vs Real):\")\n",
        "for i in range(5):\n",
        "    print(f\"Prediccion: {y_pred_nn[i]:.2f}, Real: {y_test[i]:.2f}\")\n",
        "\n",
        "# Paso 6: Comparación general\n",
        "print(\"\\nResumen de modelos:\")\n",
        "print(f\"Regresión Lineal -> MSE: {mse_lr:.2f}, R2: {r2_lr:.2f}\")\n",
        "print(f\"Red Neuronal -> MSE: {mse_nn:.2f}, R2: {r2_nn:.2f}\")\n"
      ]
    }
  ]
}